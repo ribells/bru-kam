{
 "cells": [
  {
   "cell_type": "code",
   "execution_count": null,
   "id": "3b1fe564",
   "metadata": {},
   "outputs": [],
   "source": [
    "my_file = open(\"train.csv\", \"r\")\n",
    "content = my_file.read()\n",
    "content_list= content.split(\"\\n\")\n",
    "my_file.close()\n",
    "Label_array=[]\n",
    "for i in range(3735):\n",
    "    content_list_array = content_list[i+1].split(\",\")\n",
    "    if(content_list_array[1]==\"1\" or content_list_array[1]==\"2\" or content_list_array[1]==\"3\" ):\n",
    "        Label_array.append(content_list_array[1])\n",
    "        i+=1\n",
    "\n",
    "#print(Label_array)\n",
    "#print(len(Label_array))\n",
    "Imgs_array=[]\n",
    "for i in range(3735):\n",
    "    content_list_array = content_list[i+1].split(\",\")\n",
    "    if(content_list_array[1]==\"1\" or content_list_array[1]==\"2\" or content_list_array[1]==\"3\" ):\n",
    "        Imgs_array.append(content_list_array[0])\n",
    "        i+=1\n",
    "print(Imgs_array)\n",
    "print(len(Imgs_array))"
   ]
  },
  {
   "cell_type": "code",
   "execution_count": 9,
   "id": "bde9820f",
   "metadata": {},
   "outputs": [],
   "source": [
    "# Importing Image from PIL package\n",
    "from PIL import Image\n",
    "import random\n",
    "\n",
    "img_array = []\n",
    "img_data = []\n",
    "X = []\n",
    "Y = []\n",
    "\n",
    "# Persons to use for generation are at:\n",
    "# image_detector/images/Person_X.jpg\n",
    "\n",
    "\n",
    "# creating image objects\n",
    "for i in range(1000):\n",
    "    img_data = []\n",
    "    im = Image.open(\"black_background256.png\")\n",
    "    px = im.load()\n",
    "    num_objects = random.randint(0, 10)\n",
    "    #for j in range(num_objects):\n",
    "   # print(ab[0])\n",
    "    P= Image.open(('PeopleImg/'+Imgs_array[i]))\n",
    "    C= P.resize((300,300), Image.ANTIALIAS)\n",
    "    im.paste(C, (0,0))\n",
    "    for a in range(0, 256):\n",
    "        row_data = []\n",
    "        for b in range(0, 256):\n",
    "            row_data.append(px[b,a][0])\n",
    "        img_data.append(row_data)\n",
    "    X.append(img_data)\n",
    "    Y.append(str(Label_array[i]))\n",
    "    img_array.append(im)\n",
    "    #display(im)"
   ]
  },
  {
   "cell_type": "code",
   "execution_count": null,
   "id": "e04efac7",
   "metadata": {},
   "outputs": [],
   "source": [
    "import matplotlib.pyplot as plt\n",
    "print(len(X))\n",
    "\n",
    "plt.imshow(img_array[4])\n",
    "plt.show()\n",
    "\n",
    "#print(Y)\n",
    "#print(X)"
   ]
  },
  {
   "cell_type": "code",
   "execution_count": 11,
   "id": "44e5fa07",
   "metadata": {},
   "outputs": [],
   "source": [
    "# compress X to two dimensions:\n",
    "from sklearn.utils import shuffle\n",
    "Z = []\n",
    "for i in range(len(X)):\n",
    "    img_data = []\n",
    "    for a in range(0, 256):        \n",
    "        for b in range(0, 256):\n",
    "            img_data.append(X[i][b][a])\n",
    "    Z.append(img_data)\n",
    "X = Z\n",
    "# shuffle the images:\n",
    "X, y = shuffle(X, Y, random_state=42)\n"
   ]
  },
  {
   "cell_type": "code",
   "execution_count": 15,
   "id": "2d25c169",
   "metadata": {},
   "outputs": [
    {
     "name": "stdout",
     "output_type": "stream",
     "text": [
      "RandomForestClassifier()\n"
     ]
    },
    {
     "data": {
      "text/plain": [
       "RandomForestClassifier(n_estimators=10, n_jobs=1)"
      ]
     },
     "execution_count": 15,
     "metadata": {},
     "output_type": "execute_result"
    }
   ],
   "source": [
    "from sklearn.ensemble import RandomForestClassifier\n",
    "clf = RandomForestClassifier()\n",
    "print(clf)\n",
    "\n",
    "RandomForestClassifier(bootstrap=True, class_weight=None, criterion='gini',\n",
    "           max_depth=None, max_features='auto', max_leaf_nodes=None,\n",
    "            min_samples_leaf=1,\n",
    "           min_samples_split=2, min_weight_fraction_leaf=0.0,\n",
    "           n_estimators=10, n_jobs=1, oob_score=False, random_state=None,\n",
    "           verbose=0, warm_start=False)\n"
   ]
  },
  {
   "cell_type": "code",
   "execution_count": 29,
   "id": "28d678a6",
   "metadata": {},
   "outputs": [
    {
     "name": "stdout",
     "output_type": "stream",
     "text": [
      "Accuracy: 0.518\n"
     ]
    }
   ],
   "source": [
    "\n",
    "from sklearn.model_selection import train_test_split\n",
    "X_train, X_test, y_train, y_test = train_test_split(X, y, test_size=0.5, random_state=42)\n",
    "clf.fit(X_train, y_train)\n",
    "\n",
    "from sklearn.metrics import accuracy_score\n",
    "preds = clf.predict(X_test)\n",
    "print(\"Accuracy:\", accuracy_score(y_test,preds))"
   ]
  },
  {
   "cell_type": "code",
   "execution_count": 30,
   "id": "79455b5b",
   "metadata": {},
   "outputs": [
    {
     "name": "stdout",
     "output_type": "stream",
     "text": [
      "DecisionTrees's Accuracy is:  51.6\n",
      "              precision    recall  f1-score   support\n",
      "\n",
      "           1       0.00      0.00      0.00        10\n",
      "           2       0.44      0.54      0.49       208\n",
      "           3       0.60      0.51      0.55       282\n",
      "\n",
      "    accuracy                           0.52       500\n",
      "   macro avg       0.35      0.35      0.35       500\n",
      "weighted avg       0.52      0.52      0.51       500\n",
      "\n"
     ]
    },
    {
     "name": "stderr",
     "output_type": "stream",
     "text": [
      "C:\\Users\\kamalgajavalli\\anaconda3\\lib\\site-packages\\sklearn\\metrics\\_classification.py:1318: UndefinedMetricWarning: Precision and F-score are ill-defined and being set to 0.0 in labels with no predicted samples. Use `zero_division` parameter to control this behavior.\n",
      "  _warn_prf(average, modifier, msg_start, len(result))\n",
      "C:\\Users\\kamalgajavalli\\anaconda3\\lib\\site-packages\\sklearn\\metrics\\_classification.py:1318: UndefinedMetricWarning: Precision and F-score are ill-defined and being set to 0.0 in labels with no predicted samples. Use `zero_division` parameter to control this behavior.\n",
      "  _warn_prf(average, modifier, msg_start, len(result))\n",
      "C:\\Users\\kamalgajavalli\\anaconda3\\lib\\site-packages\\sklearn\\metrics\\_classification.py:1318: UndefinedMetricWarning: Precision and F-score are ill-defined and being set to 0.0 in labels with no predicted samples. Use `zero_division` parameter to control this behavior.\n",
      "  _warn_prf(average, modifier, msg_start, len(result))\n"
     ]
    }
   ],
   "source": [
    "from sklearn.tree import DecisionTreeClassifier\n",
    "from sklearn.metrics import classification_report\n",
    "from sklearn import metrics\n",
    "\n",
    "DecisionTree = DecisionTreeClassifier(criterion=\"entropy\",random_state=2,max_depth=5)\n",
    "\n",
    "DecisionTree.fit(X_train,y_train)\n",
    "\n",
    "predicted_values = DecisionTree.predict(X_test)\n",
    "x = metrics.accuracy_score(y_test, predicted_values)\n",
    "\n",
    "print(\"DecisionTrees's Accuracy is: \", x*100)\n",
    "\n",
    "print(classification_report(y_test,predicted_values))"
   ]
  },
  {
   "cell_type": "code",
   "execution_count": 31,
   "id": "5a406c9b",
   "metadata": {},
   "outputs": [
    {
     "name": "stdout",
     "output_type": "stream",
     "text": [
      "Random Forest' Accuracy is:  51.6\n",
      "              precision    recall  f1-score   support\n",
      "\n",
      "           1       0.00      0.00      0.00        10\n",
      "           2       0.44      0.54      0.49       208\n",
      "           3       0.60      0.51      0.55       282\n",
      "\n",
      "    accuracy                           0.52       500\n",
      "   macro avg       0.35      0.35      0.35       500\n",
      "weighted avg       0.52      0.52      0.51       500\n",
      "\n"
     ]
    },
    {
     "name": "stderr",
     "output_type": "stream",
     "text": [
      "C:\\Users\\kamalgajavalli\\anaconda3\\lib\\site-packages\\sklearn\\metrics\\_classification.py:1318: UndefinedMetricWarning: Precision and F-score are ill-defined and being set to 0.0 in labels with no predicted samples. Use `zero_division` parameter to control this behavior.\n",
      "  _warn_prf(average, modifier, msg_start, len(result))\n",
      "C:\\Users\\kamalgajavalli\\anaconda3\\lib\\site-packages\\sklearn\\metrics\\_classification.py:1318: UndefinedMetricWarning: Precision and F-score are ill-defined and being set to 0.0 in labels with no predicted samples. Use `zero_division` parameter to control this behavior.\n",
      "  _warn_prf(average, modifier, msg_start, len(result))\n",
      "C:\\Users\\kamalgajavalli\\anaconda3\\lib\\site-packages\\sklearn\\metrics\\_classification.py:1318: UndefinedMetricWarning: Precision and F-score are ill-defined and being set to 0.0 in labels with no predicted samples. Use `zero_division` parameter to control this behavior.\n",
      "  _warn_prf(average, modifier, msg_start, len(result))\n"
     ]
    }
   ],
   "source": [
    "from sklearn.ensemble import RandomForestClassifier\n",
    "\n",
    "\n",
    "RF = RandomForestClassifier(n_estimators=20, random_state=0)\n",
    "RF.fit(X_train,y_train)\n",
    "\n",
    "predicted_values = DecisionTree.predict(X_test)\n",
    "x = metrics.accuracy_score(y_test, predicted_values)\n",
    "\n",
    "print(\"Random Forest' Accuracy is: \", x*100)\n",
    "\n",
    "print(classification_report(y_test,predicted_values))"
   ]
  },
  {
   "cell_type": "code",
   "execution_count": 32,
   "id": "1f98e369",
   "metadata": {},
   "outputs": [
    {
     "name": "stdout",
     "output_type": "stream",
     "text": [
      "SVM's Accuracy is:  56.39999999999999\n",
      "              precision    recall  f1-score   support\n",
      "\n",
      "           1       0.00      0.00      0.00        10\n",
      "           2       0.00      0.00      0.00       208\n",
      "           3       0.56      1.00      0.72       282\n",
      "\n",
      "    accuracy                           0.56       500\n",
      "   macro avg       0.19      0.33      0.24       500\n",
      "weighted avg       0.32      0.56      0.41       500\n",
      "\n"
     ]
    },
    {
     "name": "stderr",
     "output_type": "stream",
     "text": [
      "C:\\Users\\kamalgajavalli\\anaconda3\\lib\\site-packages\\sklearn\\metrics\\_classification.py:1318: UndefinedMetricWarning: Precision and F-score are ill-defined and being set to 0.0 in labels with no predicted samples. Use `zero_division` parameter to control this behavior.\n",
      "  _warn_prf(average, modifier, msg_start, len(result))\n",
      "C:\\Users\\kamalgajavalli\\anaconda3\\lib\\site-packages\\sklearn\\metrics\\_classification.py:1318: UndefinedMetricWarning: Precision and F-score are ill-defined and being set to 0.0 in labels with no predicted samples. Use `zero_division` parameter to control this behavior.\n",
      "  _warn_prf(average, modifier, msg_start, len(result))\n",
      "C:\\Users\\kamalgajavalli\\anaconda3\\lib\\site-packages\\sklearn\\metrics\\_classification.py:1318: UndefinedMetricWarning: Precision and F-score are ill-defined and being set to 0.0 in labels with no predicted samples. Use `zero_division` parameter to control this behavior.\n",
      "  _warn_prf(average, modifier, msg_start, len(result))\n"
     ]
    }
   ],
   "source": [
    "from sklearn.svm import SVC\n",
    "\n",
    "SVM = SVC(gamma='auto')\n",
    "\n",
    "SVM.fit(X_train,y_train)\n",
    "\n",
    "predicted_values = SVM.predict(X_test)\n",
    "x = metrics.accuracy_score(y_test, predicted_values)\n",
    "\n",
    "print(\"SVM's Accuracy is: \", x*100)\n",
    "\n",
    "print(classification_report(y_test,predicted_values))"
   ]
  },
  {
   "cell_type": "code",
   "execution_count": 33,
   "id": "630dfb54",
   "metadata": {},
   "outputs": [
    {
     "name": "stderr",
     "output_type": "stream",
     "text": [
      "C:\\Users\\kamalgajavalli\\anaconda3\\lib\\site-packages\\sklearn\\linear_model\\_logistic.py:814: ConvergenceWarning: lbfgs failed to converge (status=1):\n",
      "STOP: TOTAL NO. of ITERATIONS REACHED LIMIT.\n",
      "\n",
      "Increase the number of iterations (max_iter) or scale the data as shown in:\n",
      "    https://scikit-learn.org/stable/modules/preprocessing.html\n",
      "Please also refer to the documentation for alternative solver options:\n",
      "    https://scikit-learn.org/stable/modules/linear_model.html#logistic-regression\n",
      "  n_iter_i = _check_optimize_result(\n"
     ]
    },
    {
     "name": "stdout",
     "output_type": "stream",
     "text": [
      "Logistic Regression' Accuracy is:  50.0\n",
      "              precision    recall  f1-score   support\n",
      "\n",
      "           1       0.12      0.10      0.11        10\n",
      "           2       0.45      0.61      0.52       208\n",
      "           3       0.59      0.43      0.50       282\n",
      "\n",
      "    accuracy                           0.50       500\n",
      "   macro avg       0.39      0.38      0.38       500\n",
      "weighted avg       0.52      0.50      0.50       500\n",
      "\n"
     ]
    }
   ],
   "source": [
    "from sklearn.linear_model import LogisticRegression\n",
    "\n",
    "LogReg = LogisticRegression(random_state=2)\n",
    "\n",
    "LogReg.fit(X_train,y_train)\n",
    "\n",
    "predicted_values = LogReg.predict(X_test)\n",
    "x = metrics.accuracy_score(y_test, predicted_values)\n",
    "\n",
    "print(\"Logistic Regression' Accuracy is: \", x*100)\n",
    "\n",
    "print(classification_report(y_test,predicted_values))"
   ]
  },
  {
   "cell_type": "markdown",
   "id": "0061ce8b",
   "metadata": {},
   "source": [
    "###############################2"
   ]
  },
  {
   "cell_type": "code",
   "execution_count": 11,
   "id": "8f7bed8e",
   "metadata": {},
   "outputs": [
    {
     "name": "stdout",
     "output_type": "stream",
     "text": [
      "2391\n"
     ]
    }
   ],
   "source": [
    "my_file = open(\"train.csv\", \"r\")\n",
    "content = my_file.read()\n",
    "content_list= content.split(\"\\n\")\n",
    "my_file.close()\n",
    "Label_array=[]\n",
    "for i in range(3735):\n",
    "    content_list_array = content_list[i+1].split(\",\")\n",
    "    if(content_list_array[1]==\"1\" or content_list_array[1]==\"2\"or content_list_array[1]==\"3\"or content_list_array[1]==\"4\"):\n",
    "        Label_array.append(content_list_array[1])\n",
    "        i+=1\n",
    "\n",
    "#print(Label_array)\n",
    "#print(len(Label_array))\n",
    "Imgs_array=[]\n",
    "for i in range(3735):\n",
    "    content_list_array = content_list[i+1].split(\",\")\n",
    "    if(content_list_array[1]==\"1\" or content_list_array[1]==\"2\"or content_list_array[1]==\"3\"or content_list_array[1]==\"4\"):\n",
    "        Imgs_array.append(content_list_array[0])\n",
    "        i+=1\n",
    "#print(Imgs_array)\n",
    "print(len(Imgs_array))"
   ]
  },
  {
   "cell_type": "code",
   "execution_count": 65,
   "id": "992c0442",
   "metadata": {},
   "outputs": [],
   "source": [
    "# Importing Image from PIL package\n",
    "from PIL import Image\n",
    "import random\n",
    "\n",
    "img_array = []\n",
    "img_data = []\n",
    "X = []\n",
    "Y = []\n",
    "\n",
    "# Persons to use for generation are at:\n",
    "# image_detector/images/Person_X.jpg\n",
    "\n",
    "\n",
    "# creating image objects\n",
    "for i in range(2000):\n",
    "    img_data = []\n",
    "    im = Image.open(\"black_background256.png\")\n",
    "    px = im.load()\n",
    "    num_objects = random.randint(0, 10)\n",
    "    #for j in range(num_objects):\n",
    "   # print(ab[0])\n",
    "    P= Image.open(('PeopleImg/'+Imgs_array[i]))\n",
    "    C= P.resize((300,300), Image.ANTIALIAS)\n",
    "    im.paste(C, (0,0))\n",
    "    for a in range(0, 256):\n",
    "        row_data = []\n",
    "        for b in range(0, 256):\n",
    "            row_data.append(px[b,a][0])\n",
    "        img_data.append(row_data)\n",
    "    X.append(img_data)\n",
    "    Y.append(str(Label_array[i]))\n",
    "    img_array.append(im)\n",
    "    #display(im)"
   ]
  },
  {
   "cell_type": "code",
   "execution_count": null,
   "id": "52983023",
   "metadata": {},
   "outputs": [],
   "source": [
    "import matplotlib.pyplot as plt\n",
    "print(len(X))\n",
    "\n",
    "plt.imshow(img_array[55])\n",
    "plt.show()\n",
    "\n",
    "#print(Y)\n",
    "#print(X[0])"
   ]
  },
  {
   "cell_type": "code",
   "execution_count": 67,
   "id": "be67320f",
   "metadata": {},
   "outputs": [],
   "source": [
    "from sklearn.utils import shuffle\n",
    "Z = []\n",
    "for i in range(len(X)):\n",
    "    img_data = []\n",
    "    for a in range(0, 256):        \n",
    "        for b in range(0, 256):\n",
    "            img_data.append(X[i][b][a])\n",
    "    Z.append(img_data)\n",
    "X = Z\n",
    "# shuffle the images:\n",
    "X, y = shuffle(X, Y, random_state=42)"
   ]
  },
  {
   "cell_type": "code",
   "execution_count": 68,
   "id": "248238e3",
   "metadata": {},
   "outputs": [
    {
     "name": "stdout",
     "output_type": "stream",
     "text": [
      "Accuracy: 0.365\n"
     ]
    }
   ],
   "source": [
    "from sklearn.model_selection import train_test_split\n",
    "X_train, X_test, y_train, y_test = train_test_split(X, y, test_size=0.1, random_state=42)\n",
    "clf.fit(X_train, y_train)\n",
    "\n",
    "from sklearn.metrics import accuracy_score\n",
    "preds = clf.predict(X_test)\n",
    "print(\"Accuracy:\", accuracy_score(y_test,preds))"
   ]
  },
  {
   "cell_type": "code",
   "execution_count": null,
   "id": "bde4cb5d",
   "metadata": {},
   "outputs": [],
   "source": [
    "import cv2\n",
    "import numpy as np\n",
    "import matplotlib.pyplot as plt\n",
    "import cvlib as cv\n",
    "from cvlib.object_detection import draw_bbox\n",
    "from numpy.lib.polynomial import poly\n",
    "array3=[]\n",
    "Xx=[]\n",
    "print(\"abcd\")\n",
    "for c in range(20):\n",
    "    print(\"hlo\")\n",
    "    img_array[c].save(\"temp.png\", format=\"PNG\")\n",
    "    image = cv2.imread(\"temp.png\")\n",
    "\n",
    "    gray = cv2.cvtColor(image, cv2.COLOR_BGR2GRAY)\n",
    "    box, label, count = cv.detect_common_objects(image)\n",
    "    output = draw_bbox(gray, box, label, count)\n",
    "   # plt.imshow(output)\n",
    "   # plt.show()\n",
    "    array3.append(str(label.count('person')))\n",
    "    print(\"Number of people in this image are \" +str(label.count('person')))\n",
    "    Xx.append(X[c])\n",
    "    \n",
    "#print(X)\n",
    "print(array3) "
   ]
  },
  {
   "cell_type": "code",
   "execution_count": null,
   "id": "4017618e",
   "metadata": {},
   "outputs": [],
   "source": [
    "print(len(Xx))\n",
    "print(len(array3))"
   ]
  },
  {
   "cell_type": "code",
   "execution_count": null,
   "id": "45a695e1",
   "metadata": {},
   "outputs": [],
   "source": [
    "from sklearn.model_selection import train_test_split\n",
    "Xx_train2, Xx_test2, array3_train2, array3_test2 = train_test_split(Xx, array3, test_size=0.1, random_state=42)\n",
    "clf.fit(Xx_train2, y_train2)\n",
    "\n",
    "from sklearn.metrics import accuracy_score\n",
    "preds = clf.predict(Xx_test2)\n",
    "print(\"Accuracy:\", accuracy_score(array3_test2,preds))"
   ]
  },
  {
   "cell_type": "code",
   "execution_count": null,
   "id": "9997c965",
   "metadata": {},
   "outputs": [],
   "source": [
    "###########################################################33"
   ]
  },
  {
   "cell_type": "code",
   "execution_count": 1,
   "id": "559529db",
   "metadata": {},
   "outputs": [],
   "source": [
    "#first square building images\n",
    "\n",
    "# Importing Image from PIL package\n",
    "from PIL import Image\n",
    "import random\n",
    "\n",
    "img_array = []\n",
    "img_data = []\n",
    "X = []\n",
    "Y = []\n",
    "\n",
    "# creating image objects\n",
    "for i in range(1000):\n",
    "    img_data = []\n",
    "    im = Image.open(\"images/black_background.png\")\n",
    "    px = im.load()\n",
    "    num_objects = random.randint(0, 15)\n",
    "    for j in range(num_objects):\n",
    "        x = random.randint(3, 60)\n",
    "        y = random.randint(3, 60)\n",
    "        px[x, y] = (255, 255, 0)\n",
    "        px[x+1, y] = (255, 255, 0)\n",
    "        px[x, y+1] = (255, 255, 0)\n",
    "        px[x+1, y+1] = (255, 255, 0)\n",
    "        px[x-1, y-1] = (128, 128, 0)\n",
    "        px[x-1, y] = (128, 128, 0)\n",
    "        px[x-1, y+1] = (128, 128, 0)\n",
    "        px[x-1, y+2] = (128, 128, 0)\n",
    "        px[x+2, y-1] = (128, 128, 0)\n",
    "        px[x+2, y] = (128, 128, 0)\n",
    "        px[x+2, y+1] = (128, 128, 0)\n",
    "        px[x+2, y+2] = (128, 128, 0)\n",
    "        px[x, y+2] = (128, 128, 0)\n",
    "        px[x, y-1] = (128, 128, 0)\n",
    "        px[x+1, y+2] = (128, 128, 0)\n",
    "        px[x+1, y-1] = (128, 128, 0)\n",
    "        px[x+1, y-2] = (225, 225, 0)\n",
    "        px[x+2, y-2] = (225, 225, 0)\n",
    "        px[x, y-2] = (225, 225, 0)\n",
    "        px[x-1, y-2] = (225, 225, 0)\n",
    "        px[x-2, y-2] = (225, 225, 0)\n",
    "        px[x+3, y-2] = (225, 225, 0)\n",
    "        px[x+3, y-1] = (225, 225, 0)\n",
    "        px[x+3, y] = (225, 225, 0)\n",
    "        px[x+3, y+1] = (225, 225, 0)\n",
    "        px[x+3, y+2] = (225, 225, 0)\n",
    "        px[x+3, y+3] = (225, 225, 0)\n",
    "        px[x+2, y+3] = (225, 225, 0)\n",
    "        px[x+1, y+3] = (225, 225, 0)\n",
    "        px[x, y+3] = (225, 225, 0)\n",
    "        px[x-1, y+3] = (225, 225, 0)\n",
    "        px[x-2, y+3] = (225, 225, 0)\n",
    "        px[x-2, y+2] = (225, 225, 0)\n",
    "        px[x-2, y+1] = (225, 225, 0)\n",
    "        px[x-2, y] = (225, 225, 0)\n",
    "        px[x-2, y-1] = (225, 225, 0)\n",
    "        #print (px[x, y])\n",
    "    for a in range(0,64):\n",
    "        row_data = []\n",
    "        for b in range(0,64):\n",
    "            row_data.append(px[a,b][0])\n",
    "        img_data.append(row_data)\n",
    "    X.append(img_data)\n",
    "    Y.append(str(num_objects))\n",
    "    img_array.append(im)\n",
    "    #display(im)"
   ]
  },
  {
   "cell_type": "code",
   "execution_count": null,
   "id": "b407a759",
   "metadata": {},
   "outputs": [],
   "source": [
    "\n",
    "import matplotlib.pyplot as plt\n",
    "print(len(X))\n",
    "\n",
    "#plt.imshow(X[17])\n",
    "plt.imshow(X[7])\n",
    "plt.show()\n",
    "\n",
    "#print(Y)\n"
   ]
  },
  {
   "cell_type": "code",
   "execution_count": 3,
   "id": "f8b4f10f",
   "metadata": {},
   "outputs": [],
   "source": [
    "from sklearn.utils import shuffle\n",
    "\n",
    "# compress X to two dimensions:\n",
    "Z = []\n",
    "for i in range(len(X)):\n",
    "    img_data = []\n",
    "    for a in range(0, 64):        \n",
    "        for b in range(0, 64):\n",
    "            img_data.append(X[i][a][b])\n",
    "    Z.append(img_data)\n",
    "X = Z\n",
    "# shuffle the images:\n",
    "X, y = shuffle(X, Y, random_state=10)"
   ]
  },
  {
   "cell_type": "code",
   "execution_count": 4,
   "id": "52542674",
   "metadata": {},
   "outputs": [
    {
     "name": "stdout",
     "output_type": "stream",
     "text": [
      "RandomForestClassifier()\n"
     ]
    },
    {
     "data": {
      "text/plain": [
       "RandomForestClassifier(n_estimators=2, n_jobs=1)"
      ]
     },
     "execution_count": 4,
     "metadata": {},
     "output_type": "execute_result"
    }
   ],
   "source": [
    "from sklearn.ensemble import RandomForestClassifier\n",
    "from sklearn.model_selection import train_test_split\n",
    "\n",
    "clf = RandomForestClassifier()\n",
    "print(clf)\n",
    "\n",
    "RandomForestClassifier(bootstrap=True, class_weight=None, criterion='gini',\n",
    "           max_depth=None, max_features='auto', max_leaf_nodes=None,\n",
    "            min_samples_leaf=1,\n",
    "           min_samples_split=2, min_weight_fraction_leaf=0.0,\n",
    "           n_estimators=2, n_jobs=1, oob_score=False, random_state=None,\n",
    "           verbose=0, warm_start=False)"
   ]
  },
  {
   "cell_type": "code",
   "execution_count": 5,
   "id": "d67b32a7",
   "metadata": {},
   "outputs": [
    {
     "name": "stdout",
     "output_type": "stream",
     "text": [
      "Accuracy: 0.11555555555555555\n"
     ]
    }
   ],
   "source": [
    "\n",
    "X_train, X_test, y_train, y_test = train_test_split(X, y, test_size=0.9, random_state=10)\n",
    "clf.fit(X_train, y_train)\n",
    "\n",
    "from sklearn.metrics import accuracy_score\n",
    "preds = clf.predict(X_test)\n",
    "#print(preds)\n",
    "print(\"Accuracy:\", accuracy_score(y_test,preds))"
   ]
  },
  {
   "cell_type": "code",
   "execution_count": 144,
   "id": "673194f0",
   "metadata": {},
   "outputs": [],
   "source": [
    "\n",
    "# Importing Image from PIL package\n",
    "from PIL import Image\n",
    "import random\n",
    "\n",
    "img_array = []\n",
    "img_data = []\n",
    "X = []\n",
    "Y = []\n",
    "\n",
    "# creating image objects\n",
    "for i in range(9000):\n",
    "    img_data = []\n",
    "    im = Image.open(\"images/black_background.png\")\n",
    "    px = im.load()\n",
    "    num_objects = random.randint(0, 15)\n",
    "    for j in range(num_objects):\n",
    "        x = random.randint(3, 60)\n",
    "        y = random.randint(3, 60)\n",
    "        px[x, y] = (225,225,0)\n",
    "        px[x+1, y] = (128, 128, 0)\n",
    "        px[x, y+1] = (128, 128, 0)\n",
    "        px[x+1, y+1] =(128, 128, 0)\n",
    "        px[x-1, y-1] = (128, 128, 0)\n",
    "        px[x-1, y] = (128, 128, 0)\n",
    "        px[x-1, y+1] = (128, 128, 0)\n",
    "        px[x-1, y+2] = (128, 128, 0)\n",
    "        px[x+2, y-1] = (128, 128, 0)\n",
    "        px[x+2, y] = (128, 128, 0)\n",
    "        px[x+2, y+1] = (128, 128, 0)\n",
    "        px[x+2, y+2] = (128, 128, 0)\n",
    "        px[x, y+2] = (128, 128, 0)\n",
    "        px[x, y-1] = (128, 128, 0)\n",
    "        px[x+1, y+2] = (128, 128, 0)\n",
    "        px[x+1, y-1] = (128, 128, 0)\n",
    "    \n",
    "        #print (px[x, y])\n",
    "    for a in range(0,64):\n",
    "        row_data = []\n",
    "        for b in range(0,64):\n",
    "            row_data.append(px[a,b][0])\n",
    "        img_data.append(row_data)\n",
    "    X.append(img_data)\n",
    "    Y.append(str(num_objects))\n",
    "    img_array.append(im)\n",
    "    #display(im)"
   ]
  },
  {
   "cell_type": "code",
   "execution_count": null,
   "id": "e8600ffa",
   "metadata": {},
   "outputs": [],
   "source": [
    "\n",
    "import matplotlib.pyplot as plt\n",
    "print(len(X))\n",
    "\n",
    "#plt.imshow(X[17])\n",
    "plt.imshow(X[7])\n",
    "plt.show()\n",
    "\n",
    "print(Y)"
   ]
  },
  {
   "cell_type": "code",
   "execution_count": 146,
   "id": "8da7fe3f",
   "metadata": {},
   "outputs": [],
   "source": [
    "from sklearn.utils import shuffle\n",
    "\n",
    "# compress X to two dimensions:\n",
    "Z = []\n",
    "for i in range(len(X)):\n",
    "    img_data = []\n",
    "    for a in range(0, 64):        \n",
    "        for b in range(0, 64):\n",
    "            img_data.append(X[i][a][b])\n",
    "    Z.append(img_data)\n",
    "X = Z\n",
    "# shuffle the images:\n",
    "X, y = shuffle(X, Y, random_state=10)"
   ]
  },
  {
   "cell_type": "code",
   "execution_count": 147,
   "id": "f5ae3a61",
   "metadata": {},
   "outputs": [
    {
     "name": "stdout",
     "output_type": "stream",
     "text": [
      "RandomForestClassifier()\n"
     ]
    },
    {
     "data": {
      "text/plain": [
       "RandomForestClassifier(n_estimators=2, n_jobs=1)"
      ]
     },
     "execution_count": 147,
     "metadata": {},
     "output_type": "execute_result"
    }
   ],
   "source": [
    "from sklearn.ensemble import RandomForestClassifier\n",
    "from sklearn.model_selection import train_test_split\n",
    "\n",
    "clf = RandomForestClassifier()\n",
    "print(clf)\n",
    "\n",
    "RandomForestClassifier(bootstrap=True, class_weight=None, criterion='gini',\n",
    "           max_depth=None, max_features='auto', max_leaf_nodes=None,\n",
    "            min_samples_leaf=1,\n",
    "           min_samples_split=2, min_weight_fraction_leaf=0.0,\n",
    "           n_estimators=2, n_jobs=1, oob_score=False, random_state=None,\n",
    "           verbose=0, warm_start=False)"
   ]
  },
  {
   "cell_type": "code",
   "execution_count": 148,
   "id": "eb34521a",
   "metadata": {},
   "outputs": [
    {
     "name": "stdout",
     "output_type": "stream",
     "text": [
      "Accuracy: 0.1688888888888889\n"
     ]
    }
   ],
   "source": [
    "\n",
    "X_train, X_test, y_train, y_test = train_test_split(X, y, test_size=0.1, random_state=10)\n",
    "clf.fit(X_train, y_train)\n",
    "\n",
    "from sklearn.metrics import accuracy_score\n",
    "preds = clf.predict(X_test)\n",
    "#print(preds)\n",
    "print(\"Accuracy:\", accuracy_score(y_test,preds))"
   ]
  },
  {
   "cell_type": "code",
   "execution_count": null,
   "id": "a93c129e",
   "metadata": {},
   "outputs": [],
   "source": [
    "# https://www.vtupulse.com/machine-learning/backpropagation-algorithm-machine-learning/\n",
    "import numpy as np\n",
    "\n",
    "X = np.array((Xx), dtype=float)\n",
    "y = np.array((array3), dtype=float)\n",
    "X = X/np.amax(X,axis=0) #maximum of X array longitudinally\n",
    "y = y/100\n",
    "\n",
    "#Sigmoid Function\n",
    "def sigmoid (x):\n",
    "    return 1/(1 + np.exp(-x))\n",
    "\n",
    "#Derivative of Sigmoid Function\n",
    "def derivatives_sigmoid(x):\n",
    "    return x * (1 - x)\n",
    "\n",
    "#Variable initialization\n",
    "epoch=5 #Setting training iterations\n",
    "lr=0.1 #Setting learning rate\n",
    "\n",
    "inputlayer_neurons = 2 #number of features in data set\n",
    "hiddenlayer_neurons = 3 #number of hidden layers neurons\n",
    "output_neurons = 1 #number of neurons at output layer\n",
    "#weight and bias initialization\n",
    "\n",
    "wh=np.random.uniform(size=(inputlayer_neurons,hiddenlayer_neurons))\n",
    "bh=np.random.uniform(size=(1,hiddenlayer_neurons))\n",
    "wout=np.random.uniform(size=(hiddenlayer_neurons,output_neurons))\n",
    "bout=np.random.uniform(size=(1,output_neurons))\n",
    "\n",
    "#draws a random range of numbers uniformly of dim x*y\n",
    "for i in range(epoch):\n",
    "    #Forward Propogation\n",
    "    #print(X)\n",
    "    hinp1=np.dot((Xx),wh)\n",
    "    hinp=hinp1 + bh\n",
    "    hlayer_act = sigmoid(hinp)\n",
    "    outinp1=np.dot(hlayer_act,wout)\n",
    "    outinp= outinp1+bout\n",
    "    output = sigmoid(outinp)\n",
    "\n",
    "    #Backpropagation\n",
    "    EO = y-output\n",
    "    outgrad = derivatives_sigmoid(output)\n",
    "    d_output = EO * outgrad\n",
    "    EH = d_output.dot(wout.T)\n",
    "    hiddengrad = derivatives_sigmoid(hlayer_act)#how much hidden layer wts contributed to error\n",
    "    d_hiddenlayer = EH * hiddengrad\n",
    "    \n",
    "    wout += hlayer_act.T.dot(d_output) *lr   # dotproduct of nextlayererror and currentlayerop\n",
    "    wh += X.T.dot(d_hiddenlayer) *lr\n",
    "    \n",
    "    print (\"-----------Epoch-\", i+1, \"Starts----------\")\n",
    "    print(\"Input: \\n\" + str(X)) \n",
    "    print(\"Actual Output: \\n\" + str(y))\n",
    "    print(\"Predicted Output: \\n\" ,output)\n",
    "    print (\"-----------Epoch-\", i+1, \"Ends----------\\n\")\n",
    "        \n",
    "print(\"Input: \\n\" + str(X)) \n",
    "print(\"Actual Output: \\n\" + str(y))\n",
    "print(\"Predicted Output: \\n\" ,output)"
   ]
  },
  {
   "cell_type": "code",
   "execution_count": null,
   "id": "30753f66",
   "metadata": {},
   "outputs": [],
   "source": []
  }
 ],
 "metadata": {
  "kernelspec": {
   "display_name": "Python 3 (ipykernel)",
   "language": "python",
   "name": "python3"
  },
  "language_info": {
   "codemirror_mode": {
    "name": "ipython",
    "version": 3
   },
   "file_extension": ".py",
   "mimetype": "text/x-python",
   "name": "python",
   "nbconvert_exporter": "python",
   "pygments_lexer": "ipython3",
   "version": "3.9.12"
  }
 },
 "nbformat": 4,
 "nbformat_minor": 5
}
